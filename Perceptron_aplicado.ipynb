{
 "cells": [
  {
   "cell_type": "markdown",
   "metadata": {},
   "source": [
    "---\n",
    "### Aluno: Yann Bruno Andrade Mello\n",
    "### Matrícula: 497638\n",
    "### Engenharia Elétrica - UFC\n",
    "---"
   ]
  },
  {
   "cell_type": "markdown",
   "metadata": {},
   "source": [
    "# Bibliotecas Utilizadas"
   ]
  },
  {
   "cell_type": "code",
   "execution_count": 1,
   "metadata": {},
   "outputs": [],
   "source": [
    "import numpy as np # Usada para operar matrizes\n",
    "import random      # Usada para gerar valores aleatórios\n",
    "from neurolab.trans import HardLim # Usada para chamar a função hardlim do MATLAB"
   ]
  },
  {
   "cell_type": "markdown",
   "metadata": {},
   "source": [
    "# Definindo o perceptron"
   ]
  },
  {
   "cell_type": "code",
   "execution_count": 2,
   "metadata": {},
   "outputs": [],
   "source": [
    "def perceptron(x,y,w0,eta,max_epoca):\n",
    "    wf=[0]*len(w0) # Vetor definido para guardar os pesos finais\n",
    "    epoca = 0  # Setando a quantidade de épocas\n",
    "    erro = np.array([1,1,1,1]) # Definindo um vetor para guardar os erros\n",
    "    while epoca<=max_epoca:\n",
    "        for n in range(len(y)):\n",
    "            \"\"\"\n",
    "            u é o potencial de ativação\n",
    "            func recebe a função HardLim\n",
    "            ativa recebe o valor da função de aivação no potencial de ativação\n",
    "            \n",
    "            \"\"\"\n",
    "            u = w0.T@x.T[n]\n",
    "            func = HardLim()\n",
    "            ativa = func(u)\n",
    "            \n",
    "            erro[n] = y[n] - ativa # Armazena o erro das respectivas entradas e respectiva saídas\n",
    "        \n",
    "        \n",
    "            while ativa!=y[n]: # Laço de tratamento dos pesos\n",
    "                wf = w0 + eta*(y[n]-ativa)*(amostra_treinamento.T[n])\n",
    "                u_n = wf.T@amostra_treinamento.T[n]\n",
    "                ativa_n = func(u_n)\n",
    "                w0 = wf\n",
    "                if ativa_n == y[n]:\n",
    "                    ativa = ativa_n\n",
    "            \n",
    "             #iterador de época\n",
    "            wf=w0\n",
    "            \n",
    "        if np.all(erro == 0): # Checa se todos os erros são 0\n",
    "            print(\"Rede treinada\")\n",
    "            print('Pesos:',wf)\n",
    "            break\n",
    "        else:\n",
    "            epoca += 1\n",
    "    \n",
    "    return [wf,epoca]"
   ]
  },
  {
   "cell_type": "markdown",
   "metadata": {},
   "source": [
    "# Definindo a operação do Perceptron"
   ]
  },
  {
   "cell_type": "code",
   "execution_count": 3,
   "metadata": {},
   "outputs": [],
   "source": [
    "def operacao(wf,amostra):\n",
    "    func = HardLim()\n",
    "    retorno = func(wf.T@amostra)\n",
    "    return(print('Predição do Perceptron:', retorno))"
   ]
  },
  {
   "cell_type": "markdown",
   "metadata": {},
   "source": [
    "---"
   ]
  },
  {
   "cell_type": "markdown",
   "metadata": {},
   "source": [
    "# Aplicação para as portas AND, OR, NAND e NOR"
   ]
  },
  {
   "cell_type": "markdown",
   "metadata": {},
   "source": [
    "## Definição dos valores de saída para as portas"
   ]
  },
  {
   "cell_type": "code",
   "execution_count": 4,
   "metadata": {},
   "outputs": [],
   "source": [
    "# Porta AND\n",
    "# y = np.array([0,0,0,1])\n",
    "# Porta OR\n",
    "# y = np.array([0,1,1,1])\n",
    "# Porta NAND\n",
    "# y = np.array([1,1,1,0])\n",
    "# Porta NOR\n",
    "y = np.array([1,0,0,0])"
   ]
  },
  {
   "cell_type": "markdown",
   "metadata": {},
   "source": [
    "## Definição dos valores de entrada para as portas"
   ]
  },
  {
   "cell_type": "code",
   "execution_count": 5,
   "metadata": {},
   "outputs": [],
   "source": [
    "amostra_treinamento = np.array([[-1,-1,-1,-1],\n",
    "                               [0,0,1,1],\n",
    "                               [0,1,0,1]])"
   ]
  },
  {
   "cell_type": "markdown",
   "metadata": {},
   "source": [
    "## Definição dos pesos iniciais $w_0$"
   ]
  },
  {
   "cell_type": "code",
   "execution_count": 6,
   "metadata": {},
   "outputs": [],
   "source": [
    "w0 = np.concatenate(([0],[random.random() for i in range(2)]), axis=None) # Gera valores entre 0 e 1 aleatórios para os pesos iniciais"
   ]
  },
  {
   "cell_type": "markdown",
   "metadata": {},
   "source": [
    "## Definição da taxa de aprendizagem"
   ]
  },
  {
   "cell_type": "code",
   "execution_count": 7,
   "metadata": {},
   "outputs": [],
   "source": [
    "taxa_aprendizagem = random.random() # Gera um valor aleatório entre 0 e 1 para a taxa de aprendizagem"
   ]
  },
  {
   "cell_type": "markdown",
   "metadata": {},
   "source": [
    "## Definição da quantidade máxima de épocas "
   ]
  },
  {
   "cell_type": "code",
   "execution_count": 8,
   "metadata": {},
   "outputs": [],
   "source": [
    "max_epoca=20"
   ]
  },
  {
   "cell_type": "markdown",
   "metadata": {},
   "source": [
    "---"
   ]
  },
  {
   "cell_type": "markdown",
   "metadata": {},
   "source": [
    "# Chamando as função criada para treinar o perceptron"
   ]
  },
  {
   "cell_type": "code",
   "execution_count": 9,
   "metadata": {},
   "outputs": [
    {
     "name": "stdout",
     "output_type": "stream",
     "text": [
      "Rede treinada\n",
      "Pesos: [-0.33168428 -0.57062871 -0.40229266]\n"
     ]
    }
   ],
   "source": [
    "wf,epoca = perceptron(amostra_treinamento,y,w0,taxa_aprendizagem,max_epoca)"
   ]
  },
  {
   "cell_type": "markdown",
   "metadata": {},
   "source": [
    "# Quantidade de épocas"
   ]
  },
  {
   "cell_type": "code",
   "execution_count": 10,
   "metadata": {},
   "outputs": [
    {
     "data": {
      "text/plain": [
       "4"
      ]
     },
     "execution_count": 10,
     "metadata": {},
     "output_type": "execute_result"
    }
   ],
   "source": [
    "epoca"
   ]
  },
  {
   "cell_type": "markdown",
   "metadata": {},
   "source": [
    "# Chamando a função para fazer a predição para valores de entrada"
   ]
  },
  {
   "cell_type": "code",
   "execution_count": 11,
   "metadata": {},
   "outputs": [
    {
     "name": "stdout",
     "output_type": "stream",
     "text": [
      "Predição do Perceptron: 0.0\n"
     ]
    }
   ],
   "source": [
    "operacao(wf,[-1,1,1])"
   ]
  },
  {
   "cell_type": "markdown",
   "metadata": {},
   "source": [
    "---"
   ]
  },
  {
   "cell_type": "markdown",
   "metadata": {},
   "source": [
    "# Referência Bibliográfica\n",
    "- REDE Perceptron. In: NUNES DA SILVA, Ivan; HERNANE SPATTI, Danilo; ANDRADE FLAUZINO, Rogério. Redes Neurais Artificiais para engenharia e ciências aplicadas. [S. l.: s. n.], 2019. cap. 3, p. 57-70."
   ]
  }
 ],
 "metadata": {
  "kernelspec": {
   "display_name": "Python 3",
   "language": "python",
   "name": "python3"
  },
  "language_info": {
   "codemirror_mode": {
    "name": "ipython",
    "version": 3
   },
   "file_extension": ".py",
   "mimetype": "text/x-python",
   "name": "python",
   "nbconvert_exporter": "python",
   "pygments_lexer": "ipython3",
   "version": "3.8.5"
  }
 },
 "nbformat": 4,
 "nbformat_minor": 4
}
