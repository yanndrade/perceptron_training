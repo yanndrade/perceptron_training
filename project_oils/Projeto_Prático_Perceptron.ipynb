{
 "cells": [
  {
   "cell_type": "markdown",
   "metadata": {},
   "source": [
    "---\n",
    "### Aluno: Yann Bruno Andrade Mello\n",
    "### Engenharia Elétrica - UFC\n",
    "---"
   ]
  },
  {
   "cell_type": "markdown",
   "metadata": {},
   "source": [
    "# Bibliotecas Utilizadas"
   ]
  },
  {
   "cell_type": "code",
   "execution_count": 1,
   "metadata": {},
   "outputs": [],
   "source": [
    "import numpy as np  # Usada para operar matrizes\n",
    "import random      # Usada para gerar valores aleatórios\n",
    "import pandas as pd  # Usada para importar a base de dados .xlsx\n",
    "from neurolab.trans import HardLim  # Usada para chamar a função hardlim do MATLAB"
   ]
  },
  {
   "cell_type": "markdown",
   "metadata": {},
   "source": [
    "# Definindo o perceptron"
   ]
  },
  {
   "cell_type": "code",
   "execution_count": 2,
   "metadata": {},
   "outputs": [],
   "source": [
    "def perceptron(x, y, w0, eta, max_epoca):\n",
    "    wf = [0]*len(w0)  # Vetor definido para guardar os pesos finais\n",
    "    epoca = 0  # Setando a quantidade de épocas\n",
    "    # Definindo um vetor para guardar os erros\n",
    "    erro = np.array([1 for n in range(len(y))])\n",
    "    while epoca <= max_epoca:\n",
    "        for n in range(len(y)):\n",
    "            \"\"\"\n",
    "            u é o potencial de ativação\n",
    "            func recebe a função HardLim\n",
    "            ativa recebe o valor da função de aivação no potencial de ativação\n",
    "\n",
    "            \"\"\"\n",
    "            u = w0.T@x.T[n]\n",
    "            func = HardLim()\n",
    "            ativa = func(u)\n",
    "\n",
    "            # Armazena o erro das respectivas entradas e respectiva saídas\n",
    "            erro[n] = y[n] - ativa\n",
    "\n",
    "            while ativa != y[n]:  # Laço de tratamento dos pesos\n",
    "                wf = w0 + eta*(y[n]-ativa)*(x.T[n])\n",
    "                u_n = wf.T@x.T[n]\n",
    "                ativa_n = func(u_n)\n",
    "                w0 = wf\n",
    "                if ativa_n == y[n]:\n",
    "                    ativa = ativa_n\n",
    "\n",
    "            wf = w0\n",
    "\n",
    "        if np.all(erro == 0):  # Checa se todos os erros são 0\n",
    "            break\n",
    "        else:\n",
    "            epoca += 1  # iterador de época\n",
    "\n",
    "    return [wf, epoca]"
   ]
  },
  {
   "cell_type": "markdown",
   "metadata": {},
   "source": [
    "# Definindo a operação do Perceptron"
   ]
  },
  {
   "cell_type": "code",
   "execution_count": 3,
   "metadata": {},
   "outputs": [],
   "source": [
    "def operacao(wf, amostra):\n",
    "    func = HardLim()\n",
    "    retorno = func(wf.T@amostra)\n",
    "    if retorno == 0:\n",
    "        retorno = -1\n",
    "    return retorno"
   ]
  },
  {
   "cell_type": "markdown",
   "metadata": {},
   "source": [
    "---"
   ]
  },
  {
   "cell_type": "markdown",
   "metadata": {},
   "source": [
    "# Aplicação no Projeto Prático ([1] - páginas: 70-72)"
   ]
  },
  {
   "cell_type": "markdown",
   "metadata": {},
   "source": [
    "## Import da base de dados com valores para teste\n",
    "Houve um tratamento dos dados de entrada:\n",
    "- Foi usado `replace()` para mudar os valores -1, da saída, para 0, para facilitar a função de ativação\n",
    "- Após isso fizemos a transposição do DataFrame, afim de facilitar quando convertermos para um array numpy"
   ]
  },
  {
   "cell_type": "code",
   "execution_count": 4,
   "metadata": {},
   "outputs": [
    {
     "data": {
      "text/html": [
       "<div>\n",
       "<style scoped>\n",
       "    .dataframe tbody tr th:only-of-type {\n",
       "        vertical-align: middle;\n",
       "    }\n",
       "\n",
       "    .dataframe tbody tr th {\n",
       "        vertical-align: top;\n",
       "    }\n",
       "\n",
       "    .dataframe thead th {\n",
       "        text-align: right;\n",
       "    }\n",
       "</style>\n",
       "<table border=\"1\" class=\"dataframe\">\n",
       "  <thead>\n",
       "    <tr style=\"text-align: right;\">\n",
       "      <th></th>\n",
       "      <th>0</th>\n",
       "      <th>1</th>\n",
       "      <th>2</th>\n",
       "      <th>3</th>\n",
       "      <th>4</th>\n",
       "      <th>5</th>\n",
       "      <th>6</th>\n",
       "      <th>7</th>\n",
       "      <th>8</th>\n",
       "      <th>9</th>\n",
       "      <th>...</th>\n",
       "      <th>20</th>\n",
       "      <th>21</th>\n",
       "      <th>22</th>\n",
       "      <th>23</th>\n",
       "      <th>24</th>\n",
       "      <th>25</th>\n",
       "      <th>26</th>\n",
       "      <th>27</th>\n",
       "      <th>28</th>\n",
       "      <th>29</th>\n",
       "    </tr>\n",
       "  </thead>\n",
       "  <tbody>\n",
       "    <tr>\n",
       "      <th>x1</th>\n",
       "      <td>-0.6508</td>\n",
       "      <td>-1.4492</td>\n",
       "      <td>2.0850</td>\n",
       "      <td>0.2626</td>\n",
       "      <td>0.6418</td>\n",
       "      <td>0.2569</td>\n",
       "      <td>1.1155</td>\n",
       "      <td>0.0914</td>\n",
       "      <td>0.0121</td>\n",
       "      <td>-0.0429</td>\n",
       "      <td>...</td>\n",
       "      <td>-0.1147</td>\n",
       "      <td>-0.7970</td>\n",
       "      <td>-1.0625</td>\n",
       "      <td>0.5307</td>\n",
       "      <td>-1.2200</td>\n",
       "      <td>0.3957</td>\n",
       "      <td>-0.1013</td>\n",
       "      <td>2.4482</td>\n",
       "      <td>2.0149</td>\n",
       "      <td>0.2012</td>\n",
       "    </tr>\n",
       "    <tr>\n",
       "      <th>x2</th>\n",
       "      <td>0.1097</td>\n",
       "      <td>0.8896</td>\n",
       "      <td>0.6876</td>\n",
       "      <td>1.1476</td>\n",
       "      <td>1.0234</td>\n",
       "      <td>0.6730</td>\n",
       "      <td>0.6043</td>\n",
       "      <td>0.3399</td>\n",
       "      <td>0.5256</td>\n",
       "      <td>0.4660</td>\n",
       "      <td>...</td>\n",
       "      <td>0.2242</td>\n",
       "      <td>0.8795</td>\n",
       "      <td>0.6366</td>\n",
       "      <td>0.1285</td>\n",
       "      <td>0.7777</td>\n",
       "      <td>0.1076</td>\n",
       "      <td>0.5989</td>\n",
       "      <td>0.9455</td>\n",
       "      <td>0.6192</td>\n",
       "      <td>0.2611</td>\n",
       "    </tr>\n",
       "    <tr>\n",
       "      <th>x3</th>\n",
       "      <td>4.0009</td>\n",
       "      <td>4.4005</td>\n",
       "      <td>12.0710</td>\n",
       "      <td>7.7985</td>\n",
       "      <td>7.0427</td>\n",
       "      <td>8.3265</td>\n",
       "      <td>7.4446</td>\n",
       "      <td>7.0677</td>\n",
       "      <td>4.6316</td>\n",
       "      <td>5.4323</td>\n",
       "      <td>...</td>\n",
       "      <td>7.2435</td>\n",
       "      <td>3.8762</td>\n",
       "      <td>2.4707</td>\n",
       "      <td>5.6883</td>\n",
       "      <td>1.7252</td>\n",
       "      <td>5.6623</td>\n",
       "      <td>7.1812</td>\n",
       "      <td>11.2095</td>\n",
       "      <td>10.9263</td>\n",
       "      <td>5.4631</td>\n",
       "    </tr>\n",
       "    <tr>\n",
       "      <th>d</th>\n",
       "      <td>0.0000</td>\n",
       "      <td>0.0000</td>\n",
       "      <td>0.0000</td>\n",
       "      <td>1.0000</td>\n",
       "      <td>1.0000</td>\n",
       "      <td>0.0000</td>\n",
       "      <td>1.0000</td>\n",
       "      <td>0.0000</td>\n",
       "      <td>1.0000</td>\n",
       "      <td>1.0000</td>\n",
       "      <td>...</td>\n",
       "      <td>0.0000</td>\n",
       "      <td>1.0000</td>\n",
       "      <td>1.0000</td>\n",
       "      <td>1.0000</td>\n",
       "      <td>1.0000</td>\n",
       "      <td>0.0000</td>\n",
       "      <td>0.0000</td>\n",
       "      <td>1.0000</td>\n",
       "      <td>0.0000</td>\n",
       "      <td>1.0000</td>\n",
       "    </tr>\n",
       "  </tbody>\n",
       "</table>\n",
       "<p>4 rows × 30 columns</p>\n",
       "</div>"
      ],
      "text/plain": [
       "        0       1        2       3       4       5       6       7       8   \\\n",
       "x1 -0.6508 -1.4492   2.0850  0.2626  0.6418  0.2569  1.1155  0.0914  0.0121   \n",
       "x2  0.1097  0.8896   0.6876  1.1476  1.0234  0.6730  0.6043  0.3399  0.5256   \n",
       "x3  4.0009  4.4005  12.0710  7.7985  7.0427  8.3265  7.4446  7.0677  4.6316   \n",
       "d   0.0000  0.0000   0.0000  1.0000  1.0000  0.0000  1.0000  0.0000  1.0000   \n",
       "\n",
       "        9   ...      20      21      22      23      24      25      26  \\\n",
       "x1 -0.0429  ... -0.1147 -0.7970 -1.0625  0.5307 -1.2200  0.3957 -0.1013   \n",
       "x2  0.4660  ...  0.2242  0.8795  0.6366  0.1285  0.7777  0.1076  0.5989   \n",
       "x3  5.4323  ...  7.2435  3.8762  2.4707  5.6883  1.7252  5.6623  7.1812   \n",
       "d   1.0000  ...  0.0000  1.0000  1.0000  1.0000  1.0000  0.0000  0.0000   \n",
       "\n",
       "         27       28      29  \n",
       "x1   2.4482   2.0149  0.2012  \n",
       "x2   0.9455   0.6192  0.2611  \n",
       "x3  11.2095  10.9263  5.4631  \n",
       "d    1.0000   0.0000  1.0000  \n",
       "\n",
       "[4 rows x 30 columns]"
      ]
     },
     "execution_count": 4,
     "metadata": {},
     "output_type": "execute_result"
    }
   ],
   "source": [
    "df = ((pd.read_excel('Base.xlsx')).replace(-1, 0)).T\n",
    "df"
   ]
  },
  {
   "cell_type": "markdown",
   "metadata": {},
   "source": [
    "## Convertendo o DataFrame para um array\n",
    "- Para os valores de y, pegamos a última linha da Dataframe e armazenamos em uma array\n",
    "- Para os valores das amostras de treinamento, foi usado o restante do Dataframe, convertido também em um array"
   ]
  },
  {
   "cell_type": "code",
   "execution_count": 5,
   "metadata": {},
   "outputs": [],
   "source": [
    "y = df.to_numpy()[-1]  # Valores de saída"
   ]
  },
  {
   "cell_type": "code",
   "execution_count": 6,
   "metadata": {},
   "outputs": [],
   "source": [
    "x = np.delete(df.to_numpy(), -1, 0)\n",
    "# Definição dos valores de entrada\n",
    "amostra_treinamento = np.insert(x, 0, (np.array([-1]*len(y))), axis=0)"
   ]
  },
  {
   "cell_type": "markdown",
   "metadata": {},
   "source": [
    "---"
   ]
  },
  {
   "cell_type": "markdown",
   "metadata": {},
   "source": [
    "## Definição dos pesos iniciais $w_0$\n",
    "Instruções do livro:\n",
    "1) Execute cinco treinamentos para a rede Perceptron, iniciando-se o vetor de pesos {w} em cada treinamento com valores aleatórios entre zero e um. Se for o caso, reinicie o gerador de números aleatórios em cada treinamento de tal forma que os elementos do vetor de pesos iniciais não sejam os mesmos. O conjunto de treinamento encontra-se no apêndice I.<br />\n",
    "<br />\n",
    "2) Registre os resultados dos cinco treinamentos na tabela"
   ]
  },
  {
   "cell_type": "code",
   "execution_count": 7,
   "metadata": {},
   "outputs": [
    {
     "data": {
      "text/html": [
       "<style  type=\"text/css\" >\n",
       "</style><table id=\"T_c02dadac_36c9_11ec_beaa_5ccd5b69a6e9\" ><caption>Tabela 3.2 – Resultados dos treinamentos do Perceptron - Parte 1</caption><thead>    <tr>        <th class=\"blank level0\" ></th>        <th class=\"col_heading level0 col0\" >w0 = eta</th>        <th class=\"col_heading level0 col1\" >w1</th>        <th class=\"col_heading level0 col2\" >w2</th>        <th class=\"col_heading level0 col3\" >w3</th>    </tr></thead><tbody>\n",
       "                <tr>\n",
       "                        <th id=\"T_c02dadac_36c9_11ec_beaa_5ccd5b69a6e9level0_row0\" class=\"row_heading level0 row0\" >1º(T1)</th>\n",
       "                        <td id=\"T_c02dadac_36c9_11ec_beaa_5ccd5b69a6e9row0_col0\" class=\"data row0 col0\" >0.000000</td>\n",
       "                        <td id=\"T_c02dadac_36c9_11ec_beaa_5ccd5b69a6e9row0_col1\" class=\"data row0 col1\" >0.199186</td>\n",
       "                        <td id=\"T_c02dadac_36c9_11ec_beaa_5ccd5b69a6e9row0_col2\" class=\"data row0 col2\" >0.658939</td>\n",
       "                        <td id=\"T_c02dadac_36c9_11ec_beaa_5ccd5b69a6e9row0_col3\" class=\"data row0 col3\" >0.132476</td>\n",
       "            </tr>\n",
       "            <tr>\n",
       "                        <th id=\"T_c02dadac_36c9_11ec_beaa_5ccd5b69a6e9level0_row1\" class=\"row_heading level0 row1\" >2º(T2)</th>\n",
       "                        <td id=\"T_c02dadac_36c9_11ec_beaa_5ccd5b69a6e9row1_col0\" class=\"data row1 col0\" >0.000000</td>\n",
       "                        <td id=\"T_c02dadac_36c9_11ec_beaa_5ccd5b69a6e9row1_col1\" class=\"data row1 col1\" >0.674436</td>\n",
       "                        <td id=\"T_c02dadac_36c9_11ec_beaa_5ccd5b69a6e9row1_col2\" class=\"data row1 col2\" >0.073872</td>\n",
       "                        <td id=\"T_c02dadac_36c9_11ec_beaa_5ccd5b69a6e9row1_col3\" class=\"data row1 col3\" >0.937378</td>\n",
       "            </tr>\n",
       "            <tr>\n",
       "                        <th id=\"T_c02dadac_36c9_11ec_beaa_5ccd5b69a6e9level0_row2\" class=\"row_heading level0 row2\" >3º(T3)</th>\n",
       "                        <td id=\"T_c02dadac_36c9_11ec_beaa_5ccd5b69a6e9row2_col0\" class=\"data row2 col0\" >0.000000</td>\n",
       "                        <td id=\"T_c02dadac_36c9_11ec_beaa_5ccd5b69a6e9row2_col1\" class=\"data row2 col1\" >0.205966</td>\n",
       "                        <td id=\"T_c02dadac_36c9_11ec_beaa_5ccd5b69a6e9row2_col2\" class=\"data row2 col2\" >0.709620</td>\n",
       "                        <td id=\"T_c02dadac_36c9_11ec_beaa_5ccd5b69a6e9row2_col3\" class=\"data row2 col3\" >0.859138</td>\n",
       "            </tr>\n",
       "            <tr>\n",
       "                        <th id=\"T_c02dadac_36c9_11ec_beaa_5ccd5b69a6e9level0_row3\" class=\"row_heading level0 row3\" >4º(T4)</th>\n",
       "                        <td id=\"T_c02dadac_36c9_11ec_beaa_5ccd5b69a6e9row3_col0\" class=\"data row3 col0\" >0.000000</td>\n",
       "                        <td id=\"T_c02dadac_36c9_11ec_beaa_5ccd5b69a6e9row3_col1\" class=\"data row3 col1\" >0.323751</td>\n",
       "                        <td id=\"T_c02dadac_36c9_11ec_beaa_5ccd5b69a6e9row3_col2\" class=\"data row3 col2\" >0.476434</td>\n",
       "                        <td id=\"T_c02dadac_36c9_11ec_beaa_5ccd5b69a6e9row3_col3\" class=\"data row3 col3\" >0.076662</td>\n",
       "            </tr>\n",
       "            <tr>\n",
       "                        <th id=\"T_c02dadac_36c9_11ec_beaa_5ccd5b69a6e9level0_row4\" class=\"row_heading level0 row4\" >5º(T5)</th>\n",
       "                        <td id=\"T_c02dadac_36c9_11ec_beaa_5ccd5b69a6e9row4_col0\" class=\"data row4 col0\" >0.000000</td>\n",
       "                        <td id=\"T_c02dadac_36c9_11ec_beaa_5ccd5b69a6e9row4_col1\" class=\"data row4 col1\" >0.190562</td>\n",
       "                        <td id=\"T_c02dadac_36c9_11ec_beaa_5ccd5b69a6e9row4_col2\" class=\"data row4 col2\" >0.510284</td>\n",
       "                        <td id=\"T_c02dadac_36c9_11ec_beaa_5ccd5b69a6e9row4_col3\" class=\"data row4 col3\" >0.815919</td>\n",
       "            </tr>\n",
       "    </tbody></table>"
      ],
      "text/plain": [
       "<pandas.io.formats.style.Styler at 0xf736910>"
      ]
     },
     "metadata": {},
     "output_type": "display_data"
    }
   ],
   "source": [
    "conjunto_pesos_i = []  # Vetor usado para guardar os valores dos pesos iniciais\n",
    "for n in range(5):\n",
    "    # Gera valores entre 0 e 1 aleatórios para os pesos iniciais\n",
    "    conjunto_pesos_i.append(np.concatenate(\n",
    "        ([0], [random.random() for i in range(3)])))\n",
    "# Transforma o array de pesos iniciais em um Dataframe\n",
    "pesos = pd.DataFrame(conjunto_pesos_i, index=[\n",
    "                     '1º(T1)', '2º(T2)', '3º(T3)', '4º(T4)', '5º(T5)'], columns=['w0 = eta', 'w1', 'w2', 'w3'])\n",
    "display(pesos.style.set_caption(\n",
    "    'Tabela 3.2 – Resultados dos treinamentos do Perceptron - Parte 1'))"
   ]
  },
  {
   "cell_type": "markdown",
   "metadata": {},
   "source": [
    "### Plotagem da tabela de pesos iniciais (Tabela 3.2 - Resultados dos treinamentos do Perceptron - Parte 1)"
   ]
  },
  {
   "cell_type": "code",
   "execution_count": 8,
   "metadata": {},
   "outputs": [
    {
     "data": {
      "text/html": [
       "<div>\n",
       "<style scoped>\n",
       "    .dataframe tbody tr th:only-of-type {\n",
       "        vertical-align: middle;\n",
       "    }\n",
       "\n",
       "    .dataframe tbody tr th {\n",
       "        vertical-align: top;\n",
       "    }\n",
       "\n",
       "    .dataframe thead th {\n",
       "        text-align: right;\n",
       "    }\n",
       "</style>\n",
       "<table border=\"1\" class=\"dataframe\">\n",
       "  <thead>\n",
       "    <tr style=\"text-align: right;\">\n",
       "      <th></th>\n",
       "      <th>w0 = eta</th>\n",
       "      <th>w1</th>\n",
       "      <th>w2</th>\n",
       "      <th>w3</th>\n",
       "    </tr>\n",
       "  </thead>\n",
       "  <tbody>\n",
       "    <tr>\n",
       "      <th>1º(T1)</th>\n",
       "      <td>0.0</td>\n",
       "      <td>0.199186</td>\n",
       "      <td>0.658939</td>\n",
       "      <td>0.132476</td>\n",
       "    </tr>\n",
       "    <tr>\n",
       "      <th>2º(T2)</th>\n",
       "      <td>0.0</td>\n",
       "      <td>0.674436</td>\n",
       "      <td>0.073872</td>\n",
       "      <td>0.937378</td>\n",
       "    </tr>\n",
       "    <tr>\n",
       "      <th>3º(T3)</th>\n",
       "      <td>0.0</td>\n",
       "      <td>0.205966</td>\n",
       "      <td>0.709620</td>\n",
       "      <td>0.859138</td>\n",
       "    </tr>\n",
       "    <tr>\n",
       "      <th>4º(T4)</th>\n",
       "      <td>0.0</td>\n",
       "      <td>0.323751</td>\n",
       "      <td>0.476434</td>\n",
       "      <td>0.076662</td>\n",
       "    </tr>\n",
       "    <tr>\n",
       "      <th>5º(T5)</th>\n",
       "      <td>0.0</td>\n",
       "      <td>0.190562</td>\n",
       "      <td>0.510284</td>\n",
       "      <td>0.815919</td>\n",
       "    </tr>\n",
       "  </tbody>\n",
       "</table>\n",
       "</div>"
      ],
      "text/plain": [
       "        w0 = eta        w1        w2        w3\n",
       "1º(T1)       0.0  0.199186  0.658939  0.132476\n",
       "2º(T2)       0.0  0.674436  0.073872  0.937378\n",
       "3º(T3)       0.0  0.205966  0.709620  0.859138\n",
       "4º(T4)       0.0  0.323751  0.476434  0.076662\n",
       "5º(T5)       0.0  0.190562  0.510284  0.815919"
      ]
     },
     "execution_count": 8,
     "metadata": {},
     "output_type": "execute_result"
    }
   ],
   "source": [
    "pesos"
   ]
  },
  {
   "cell_type": "markdown",
   "metadata": {},
   "source": [
    "---"
   ]
  },
  {
   "cell_type": "markdown",
   "metadata": {},
   "source": [
    "## Definição da taxa de aprendizagem"
   ]
  },
  {
   "cell_type": "code",
   "execution_count": 9,
   "metadata": {},
   "outputs": [],
   "source": [
    "taxa_aprendizagem = 0.01"
   ]
  },
  {
   "cell_type": "markdown",
   "metadata": {},
   "source": [
    "## Definição da quantidade máxima de épocas "
   ]
  },
  {
   "cell_type": "code",
   "execution_count": 10,
   "metadata": {},
   "outputs": [],
   "source": [
    "max_epoca = 10000"
   ]
  },
  {
   "cell_type": "markdown",
   "metadata": {},
   "source": [
    "---"
   ]
  },
  {
   "cell_type": "markdown",
   "metadata": {},
   "source": [
    "# Definição dos pesos finais e a quantidade de épocas, após usar o Perceptron"
   ]
  },
  {
   "cell_type": "code",
   "execution_count": 11,
   "metadata": {},
   "outputs": [],
   "source": [
    "conjunto_pesos_f = [perceptron(\n",
    "    amostra_treinamento, y, pesos.iloc[n], taxa_aprendizagem, max_epoca)[0] for n in range(5)]\n",
    "# Aplicação do algoritmo de treinamento do Perceptron e armazenando o valor dos novos pesos em um array\n",
    "conjunto_pesos_f = pd.DataFrame(conjunto_pesos_f)\n",
    "# Construindo a Tabela 3.2 (inserindo a quantidade de épocas de cada treinamento)\n",
    "conjunto_pesos_f_epocas = conjunto_pesos_f.assign(epocas=[perceptron(\n",
    "    amostra_treinamento, y, pesos.iloc[n], taxa_aprendizagem, max_epoca)[1] for n in range(5)])"
   ]
  },
  {
   "cell_type": "markdown",
   "metadata": {},
   "source": [
    "### Plotagem da tabela de pesos finais (Tabela 3.2 - Resultados dos treinamentos do Perceptron - Parte 2)"
   ]
  },
  {
   "cell_type": "code",
   "execution_count": 12,
   "metadata": {},
   "outputs": [
    {
     "data": {
      "text/html": [
       "<div>\n",
       "<style scoped>\n",
       "    .dataframe tbody tr th:only-of-type {\n",
       "        vertical-align: middle;\n",
       "    }\n",
       "\n",
       "    .dataframe tbody tr th {\n",
       "        vertical-align: top;\n",
       "    }\n",
       "\n",
       "    .dataframe thead th {\n",
       "        text-align: right;\n",
       "    }\n",
       "</style>\n",
       "<table border=\"1\" class=\"dataframe\">\n",
       "  <thead>\n",
       "    <tr style=\"text-align: right;\">\n",
       "      <th></th>\n",
       "      <th>w0 = eta</th>\n",
       "      <th>w1</th>\n",
       "      <th>w2</th>\n",
       "      <th>w3</th>\n",
       "      <th>epocas</th>\n",
       "    </tr>\n",
       "  </thead>\n",
       "  <tbody>\n",
       "    <tr>\n",
       "      <th>1º(T1)</th>\n",
       "      <td>-1.53</td>\n",
       "      <td>0.772820</td>\n",
       "      <td>1.201581</td>\n",
       "      <td>-0.361756</td>\n",
       "      <td>392</td>\n",
       "    </tr>\n",
       "    <tr>\n",
       "      <th>2º(T2)</th>\n",
       "      <td>-1.52</td>\n",
       "      <td>0.772486</td>\n",
       "      <td>1.214734</td>\n",
       "      <td>-0.361614</td>\n",
       "      <td>402</td>\n",
       "    </tr>\n",
       "    <tr>\n",
       "      <th>3º(T3)</th>\n",
       "      <td>-1.57</td>\n",
       "      <td>0.787115</td>\n",
       "      <td>1.222087</td>\n",
       "      <td>-0.370337</td>\n",
       "      <td>431</td>\n",
       "    </tr>\n",
       "    <tr>\n",
       "      <th>4º(T4)</th>\n",
       "      <td>-1.54</td>\n",
       "      <td>0.795747</td>\n",
       "      <td>1.211427</td>\n",
       "      <td>-0.365093</td>\n",
       "      <td>405</td>\n",
       "    </tr>\n",
       "    <tr>\n",
       "      <th>5º(T5)</th>\n",
       "      <td>-1.58</td>\n",
       "      <td>0.769718</td>\n",
       "      <td>1.225910</td>\n",
       "      <td>-0.357487</td>\n",
       "      <td>440</td>\n",
       "    </tr>\n",
       "  </tbody>\n",
       "</table>\n",
       "</div>"
      ],
      "text/plain": [
       "        w0 = eta        w1        w2        w3  epocas\n",
       "1º(T1)     -1.53  0.772820  1.201581 -0.361756     392\n",
       "2º(T2)     -1.52  0.772486  1.214734 -0.361614     402\n",
       "3º(T3)     -1.57  0.787115  1.222087 -0.370337     431\n",
       "4º(T4)     -1.54  0.795747  1.211427 -0.365093     405\n",
       "5º(T5)     -1.58  0.769718  1.225910 -0.357487     440"
      ]
     },
     "execution_count": 12,
     "metadata": {},
     "output_type": "execute_result"
    }
   ],
   "source": [
    "conjunto_pesos_f_epocas"
   ]
  },
  {
   "cell_type": "markdown",
   "metadata": {},
   "source": [
    "---"
   ]
  },
  {
   "cell_type": "markdown",
   "metadata": {},
   "source": [
    "# Colocando o Perceptron em operação, classificando os óleos da Tabela 3.3\n",
    "3) Após o treinamento do Perceptron, coloque este em operação, aplicando-o na classificação automática das amostras de óleo da tabela 3.3, indicando ainda nesta tabela aqueles resultados das saídas (Classes) referentes aos cinco processos de treinamento realizados no item 1."
   ]
  },
  {
   "cell_type": "code",
   "execution_count": 13,
   "metadata": {},
   "outputs": [],
   "source": [
    "amostra = [[-1, -0.3665, 0.0620, 5.9891],\n",
    "           [-1, -0.7842, 1.1267, 5.5912],\n",
    "           [-1, 0.3012, 0.5611, 5.8234],\n",
    "           [-1, 0.7757, 1.0648, 8.0677],\n",
    "           [-1, 0.1570, 0.8028, 6.3040],\n",
    "           [-1, -0.7014, 1.0316, 3.6005],\n",
    "           [-1, 0.3748, 0.1536, 6.1537],\n",
    "           [-1, -0.6920, 0.9404, 4.4058],\n",
    "           [-1, -1.3970, 0.7141, 4.9263],\n",
    "           [-1, -1.8842, -0.2805, 1.2548]]  # Conjunto de amostra da questão"
   ]
  },
  {
   "cell_type": "code",
   "execution_count": 14,
   "metadata": {},
   "outputs": [],
   "source": [
    "# Criação de um vetor auxiliar para armazenar os valores de saídas\n",
    "aux = [[], [], [], [], []]"
   ]
  },
  {
   "cell_type": "code",
   "execution_count": 15,
   "metadata": {},
   "outputs": [],
   "source": [
    "for i in range(len(pesos)):\n",
    "    for j in range(len(amostra)):\n",
    "        # Realiza o algoritmo de operação do Perceptron e armazena no array\n",
    "        aux[i].append(operacao(conjunto_pesos_f.iloc[i], amostra[j]))"
   ]
  },
  {
   "cell_type": "code",
   "execution_count": 16,
   "metadata": {},
   "outputs": [],
   "source": [
    "tabela_amostra = pd.DataFrame(\n",
    "    amostra, index=[n for n in range(1, 11)], columns=['x0', 'x1', 'x2', 'x3'])\n",
    "\n",
    "tabela_saida = pd.DataFrame(aux, index=[\n",
    "                            'y(T1)', 'y(T2)', 'y(T3)', 'y(T4)', 'y(T5)'], columns=[n for n in range(1, 11)])\n",
    "\n",
    "# Transforma o array da célula anterior em um Dataframe\n",
    "tabela_saida = tabela_saida.T"
   ]
  },
  {
   "cell_type": "code",
   "execution_count": 17,
   "metadata": {},
   "outputs": [],
   "source": [
    "tabela_final = pd.concat([tabela_amostra, tabela_saida], axis=1)"
   ]
  },
  {
   "cell_type": "markdown",
   "metadata": {},
   "source": [
    "### Plotagem da tabela de saídas (Tabela 3.3 – Amostras de óleo para validar a rede Perceptron)"
   ]
  },
  {
   "cell_type": "code",
   "execution_count": 18,
   "metadata": {},
   "outputs": [
    {
     "data": {
      "text/html": [
       "<div>\n",
       "<style scoped>\n",
       "    .dataframe tbody tr th:only-of-type {\n",
       "        vertical-align: middle;\n",
       "    }\n",
       "\n",
       "    .dataframe tbody tr th {\n",
       "        vertical-align: top;\n",
       "    }\n",
       "\n",
       "    .dataframe thead th {\n",
       "        text-align: right;\n",
       "    }\n",
       "</style>\n",
       "<table border=\"1\" class=\"dataframe\">\n",
       "  <thead>\n",
       "    <tr style=\"text-align: right;\">\n",
       "      <th></th>\n",
       "      <th>x0</th>\n",
       "      <th>x1</th>\n",
       "      <th>x2</th>\n",
       "      <th>x3</th>\n",
       "      <th>y(T1)</th>\n",
       "      <th>y(T2)</th>\n",
       "      <th>y(T3)</th>\n",
       "      <th>y(T4)</th>\n",
       "      <th>y(T5)</th>\n",
       "    </tr>\n",
       "  </thead>\n",
       "  <tbody>\n",
       "    <tr>\n",
       "      <th>1</th>\n",
       "      <td>-1</td>\n",
       "      <td>-0.3665</td>\n",
       "      <td>0.0620</td>\n",
       "      <td>5.9891</td>\n",
       "      <td>-1.0</td>\n",
       "      <td>-1.0</td>\n",
       "      <td>-1.0</td>\n",
       "      <td>-1.0</td>\n",
       "      <td>-1.0</td>\n",
       "    </tr>\n",
       "    <tr>\n",
       "      <th>2</th>\n",
       "      <td>-1</td>\n",
       "      <td>-0.7842</td>\n",
       "      <td>1.1267</td>\n",
       "      <td>5.5912</td>\n",
       "      <td>1.0</td>\n",
       "      <td>1.0</td>\n",
       "      <td>1.0</td>\n",
       "      <td>1.0</td>\n",
       "      <td>1.0</td>\n",
       "    </tr>\n",
       "    <tr>\n",
       "      <th>3</th>\n",
       "      <td>-1</td>\n",
       "      <td>0.3012</td>\n",
       "      <td>0.5611</td>\n",
       "      <td>5.8234</td>\n",
       "      <td>1.0</td>\n",
       "      <td>1.0</td>\n",
       "      <td>1.0</td>\n",
       "      <td>1.0</td>\n",
       "      <td>1.0</td>\n",
       "    </tr>\n",
       "    <tr>\n",
       "      <th>4</th>\n",
       "      <td>-1</td>\n",
       "      <td>0.7757</td>\n",
       "      <td>1.0648</td>\n",
       "      <td>8.0677</td>\n",
       "      <td>1.0</td>\n",
       "      <td>1.0</td>\n",
       "      <td>1.0</td>\n",
       "      <td>1.0</td>\n",
       "      <td>1.0</td>\n",
       "    </tr>\n",
       "    <tr>\n",
       "      <th>5</th>\n",
       "      <td>-1</td>\n",
       "      <td>0.1570</td>\n",
       "      <td>0.8028</td>\n",
       "      <td>6.3040</td>\n",
       "      <td>1.0</td>\n",
       "      <td>1.0</td>\n",
       "      <td>1.0</td>\n",
       "      <td>1.0</td>\n",
       "      <td>1.0</td>\n",
       "    </tr>\n",
       "    <tr>\n",
       "      <th>6</th>\n",
       "      <td>-1</td>\n",
       "      <td>-0.7014</td>\n",
       "      <td>1.0316</td>\n",
       "      <td>3.6005</td>\n",
       "      <td>1.0</td>\n",
       "      <td>1.0</td>\n",
       "      <td>1.0</td>\n",
       "      <td>1.0</td>\n",
       "      <td>1.0</td>\n",
       "    </tr>\n",
       "    <tr>\n",
       "      <th>7</th>\n",
       "      <td>-1</td>\n",
       "      <td>0.3748</td>\n",
       "      <td>0.1536</td>\n",
       "      <td>6.1537</td>\n",
       "      <td>-1.0</td>\n",
       "      <td>-1.0</td>\n",
       "      <td>-1.0</td>\n",
       "      <td>-1.0</td>\n",
       "      <td>-1.0</td>\n",
       "    </tr>\n",
       "    <tr>\n",
       "      <th>8</th>\n",
       "      <td>-1</td>\n",
       "      <td>-0.6920</td>\n",
       "      <td>0.9404</td>\n",
       "      <td>4.4058</td>\n",
       "      <td>1.0</td>\n",
       "      <td>1.0</td>\n",
       "      <td>1.0</td>\n",
       "      <td>1.0</td>\n",
       "      <td>1.0</td>\n",
       "    </tr>\n",
       "    <tr>\n",
       "      <th>9</th>\n",
       "      <td>-1</td>\n",
       "      <td>-1.3970</td>\n",
       "      <td>0.7141</td>\n",
       "      <td>4.9263</td>\n",
       "      <td>-1.0</td>\n",
       "      <td>-1.0</td>\n",
       "      <td>-1.0</td>\n",
       "      <td>-1.0</td>\n",
       "      <td>-1.0</td>\n",
       "    </tr>\n",
       "    <tr>\n",
       "      <th>10</th>\n",
       "      <td>-1</td>\n",
       "      <td>-1.8842</td>\n",
       "      <td>-0.2805</td>\n",
       "      <td>1.2548</td>\n",
       "      <td>-1.0</td>\n",
       "      <td>-1.0</td>\n",
       "      <td>-1.0</td>\n",
       "      <td>-1.0</td>\n",
       "      <td>-1.0</td>\n",
       "    </tr>\n",
       "  </tbody>\n",
       "</table>\n",
       "</div>"
      ],
      "text/plain": [
       "    x0      x1      x2      x3  y(T1)  y(T2)  y(T3)  y(T4)  y(T5)\n",
       "1   -1 -0.3665  0.0620  5.9891   -1.0   -1.0   -1.0   -1.0   -1.0\n",
       "2   -1 -0.7842  1.1267  5.5912    1.0    1.0    1.0    1.0    1.0\n",
       "3   -1  0.3012  0.5611  5.8234    1.0    1.0    1.0    1.0    1.0\n",
       "4   -1  0.7757  1.0648  8.0677    1.0    1.0    1.0    1.0    1.0\n",
       "5   -1  0.1570  0.8028  6.3040    1.0    1.0    1.0    1.0    1.0\n",
       "6   -1 -0.7014  1.0316  3.6005    1.0    1.0    1.0    1.0    1.0\n",
       "7   -1  0.3748  0.1536  6.1537   -1.0   -1.0   -1.0   -1.0   -1.0\n",
       "8   -1 -0.6920  0.9404  4.4058    1.0    1.0    1.0    1.0    1.0\n",
       "9   -1 -1.3970  0.7141  4.9263   -1.0   -1.0   -1.0   -1.0   -1.0\n",
       "10  -1 -1.8842 -0.2805  1.2548   -1.0   -1.0   -1.0   -1.0   -1.0"
      ]
     },
     "execution_count": 18,
     "metadata": {},
     "output_type": "execute_result"
    }
   ],
   "source": [
    "tabela_final"
   ]
  },
  {
   "cell_type": "markdown",
   "metadata": {},
   "source": [
    "---"
   ]
  },
  {
   "cell_type": "markdown",
   "metadata": {},
   "source": [
    "# Demais questões"
   ]
  },
  {
   "cell_type": "markdown",
   "metadata": {},
   "source": [
    "4) Explique por que o número de épocas de treinamento, em relação a esta aplicação, varia a cada vez que executamos o treinamento do Perceptron.\n"
   ]
  },
  {
   "cell_type": "markdown",
   "metadata": {},
   "source": [
    "Resposta: \n",
    "- Pelo fato de se ter diferentes valores nos pesos de entrada, fazendo com que assim o ajuste necessário nos pesos mude para cada caso, consequentemente, como muda para cada caso, muda a quantidade de épocas necessária para cada caso"
   ]
  },
  {
   "cell_type": "markdown",
   "metadata": {},
   "source": [
    "5) Para a aplicação em questão, discorra se é possível afirmar se as suas classes são linearmente separáveis.\n"
   ]
  },
  {
   "cell_type": "markdown",
   "metadata": {},
   "source": [
    "Resposta:\n",
    "- Podemos sim afirmar que as classes são linearmente separáveis, uma vez que o algoritmo do Perceptron convergiu para todos os casos"
   ]
  },
  {
   "cell_type": "markdown",
   "metadata": {},
   "source": [
    "---"
   ]
  },
  {
   "cell_type": "markdown",
   "metadata": {},
   "source": [
    "# Referência Bibliográfica\n",
    "[1] REDE Perceptron. In: NUNES DA SILVA, Ivan; HERNANE SPATTI, Danilo; ANDRADE FLAUZINO, Rogério. Redes Neurais Artificiais para engenharia e ciências aplicadas. [S. l.: s. n.], 2019. cap. 3, p. 57-70."
   ]
  }
 ],
 "metadata": {
  "kernelspec": {
   "display_name": "Python 3",
   "language": "python",
   "name": "python3"
  },
  "language_info": {
   "codemirror_mode": {
    "name": "ipython",
    "version": 3
   },
   "file_extension": ".py",
   "mimetype": "text/x-python",
   "name": "python",
   "nbconvert_exporter": "python",
   "pygments_lexer": "ipython3",
   "version": "3.8.5"
  },
  "toc": {
   "base_numbering": 1,
   "nav_menu": {},
   "number_sections": true,
   "sideBar": true,
   "skip_h1_title": false,
   "title_cell": "Table of Contents",
   "title_sidebar": "Contents",
   "toc_cell": false,
   "toc_position": {},
   "toc_section_display": true,
   "toc_window_display": false
  }
 },
 "nbformat": 4,
 "nbformat_minor": 4
}
